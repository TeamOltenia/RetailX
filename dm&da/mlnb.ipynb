{
 "cells": [
  {
   "cell_type": "code",
   "execution_count": 8,
   "outputs": [
    {
     "ename": "NotFoundError",
     "evalue": "dlopen(/Users/ioancristianlefter/miniforge3/lib/python3.10/site-packages/tensorflow-plugins/libmetal_plugin.dylib, 0x0006): symbol not found in flat namespace '__ZN10tensorflow8internal10LogMessage16VmoduleActivatedEPKci'",
     "output_type": "error",
     "traceback": [
      "\u001B[0;31m---------------------------------------------------------------------------\u001B[0m",
      "\u001B[0;31mNotFoundError\u001B[0m                             Traceback (most recent call last)",
      "Cell \u001B[0;32mIn[8], line 3\u001B[0m\n\u001B[1;32m      1\u001B[0m \u001B[38;5;28;01mimport\u001B[39;00m \u001B[38;5;21;01mpandas\u001B[39;00m \u001B[38;5;28;01mas\u001B[39;00m \u001B[38;5;21;01mpd\u001B[39;00m\n\u001B[1;32m      2\u001B[0m \u001B[38;5;28;01mimport\u001B[39;00m \u001B[38;5;21;01mnumpy\u001B[39;00m \u001B[38;5;28;01mas\u001B[39;00m \u001B[38;5;21;01mnp\u001B[39;00m\n\u001B[0;32m----> 3\u001B[0m \u001B[38;5;28;01mimport\u001B[39;00m \u001B[38;5;21;01mtensorflow\u001B[39;00m \u001B[38;5;28;01mas\u001B[39;00m \u001B[38;5;21;01mtf\u001B[39;00m\n\u001B[1;32m      5\u001B[0m \u001B[38;5;28;01mimport\u001B[39;00m \u001B[38;5;21;01mmatplotlib\u001B[39;00m\u001B[38;5;21;01m.\u001B[39;00m\u001B[38;5;21;01mpyplot\u001B[39;00m \u001B[38;5;28;01mas\u001B[39;00m \u001B[38;5;21;01mplt\u001B[39;00m\n\u001B[1;32m      7\u001B[0m \u001B[38;5;66;03m# Assuming 'data' is your DataFrame with 'Date' and 'Sales' columns\u001B[39;00m\n",
      "File \u001B[0;32m~/miniforge3/lib/python3.10/site-packages/tensorflow/__init__.py:455\u001B[0m\n\u001B[1;32m    453\u001B[0m _plugin_dir \u001B[38;5;241m=\u001B[39m _os\u001B[38;5;241m.\u001B[39mpath\u001B[38;5;241m.\u001B[39mjoin(_s, \u001B[38;5;124m\"\u001B[39m\u001B[38;5;124mtensorflow-plugins\u001B[39m\u001B[38;5;124m\"\u001B[39m)\n\u001B[1;32m    454\u001B[0m \u001B[38;5;28;01mif\u001B[39;00m _os\u001B[38;5;241m.\u001B[39mpath\u001B[38;5;241m.\u001B[39mexists(_plugin_dir):\n\u001B[0;32m--> 455\u001B[0m   \u001B[43m_ll\u001B[49m\u001B[38;5;241;43m.\u001B[39;49m\u001B[43mload_library\u001B[49m\u001B[43m(\u001B[49m\u001B[43m_plugin_dir\u001B[49m\u001B[43m)\u001B[49m\n\u001B[1;32m    456\u001B[0m   \u001B[38;5;66;03m# Load Pluggable Device Library\u001B[39;00m\n\u001B[1;32m    457\u001B[0m   _ll\u001B[38;5;241m.\u001B[39mload_pluggable_device_library(_plugin_dir)\n",
      "File \u001B[0;32m~/miniforge3/lib/python3.10/site-packages/tensorflow/python/framework/load_library.py:151\u001B[0m, in \u001B[0;36mload_library\u001B[0;34m(library_location)\u001B[0m\n\u001B[1;32m    148\u001B[0m     kernel_libraries \u001B[38;5;241m=\u001B[39m [library_location]\n\u001B[1;32m    150\u001B[0m   \u001B[38;5;28;01mfor\u001B[39;00m lib \u001B[38;5;129;01min\u001B[39;00m kernel_libraries:\n\u001B[0;32m--> 151\u001B[0m     \u001B[43mpy_tf\u001B[49m\u001B[38;5;241;43m.\u001B[39;49m\u001B[43mTF_LoadLibrary\u001B[49m\u001B[43m(\u001B[49m\u001B[43mlib\u001B[49m\u001B[43m)\u001B[49m\n\u001B[1;32m    153\u001B[0m \u001B[38;5;28;01melse\u001B[39;00m:\n\u001B[1;32m    154\u001B[0m   \u001B[38;5;28;01mraise\u001B[39;00m \u001B[38;5;167;01mOSError\u001B[39;00m(\n\u001B[1;32m    155\u001B[0m       errno\u001B[38;5;241m.\u001B[39mENOENT,\n\u001B[1;32m    156\u001B[0m       \u001B[38;5;124m'\u001B[39m\u001B[38;5;124mThe file or folder to load kernel libraries from does not exist.\u001B[39m\u001B[38;5;124m'\u001B[39m,\n\u001B[1;32m    157\u001B[0m       library_location)\n",
      "\u001B[0;31mNotFoundError\u001B[0m: dlopen(/Users/ioancristianlefter/miniforge3/lib/python3.10/site-packages/tensorflow-plugins/libmetal_plugin.dylib, 0x0006): symbol not found in flat namespace '__ZN10tensorflow8internal10LogMessage16VmoduleActivatedEPKci'"
     ]
    }
   ],
   "source": [
    "import pandas as pd\n",
    "import numpy as np\n",
    "import tensorflow as tf\n",
    "\n",
    "import matplotlib.pyplot as plt\n",
    "\n",
    "# Assuming 'data' is your DataFrame with 'Date' and 'Sales' columns\n",
    "data = pd.read_csv('sales_data.csv')  # Replace with your file path\n",
    "data['Date'] = pd.to_datetime(data['Date'])\n",
    "data.set_index('Date', inplace=True)\n",
    "\n",
    "# Function to preprocess data (additional helper functions will be required)\n",
    "def preprocess_data(data):\n",
    "    # Your preprocessing steps go here\n",
    "    # Convert dates, create past sales features, encode holidays, etc.\n",
    "    pass\n",
    "\n",
    "# Preprocess your data\n",
    "preprocessed_data = preprocess_data(data)\n",
    "\n",
    "# Split data into training and testing sets\n",
    "train = preprocessed_data[:'your_train_end_date']\n",
    "test = preprocessed_data['your_test_start_date':]\n",
    "\n",
    "# Separate features and target variable for training and testing sets\n",
    "train_X = train.drop('Sales', axis=1)\n",
    "train_y = train['Sales']\n",
    "test_X = test.drop('Sales', axis=1)\n",
    "test_y = test['Sales']\n",
    "\n",
    "# Define the model\n",
    "input_layers = [tf.keras.Input(shape=(train_X[feature].shape[1],), name=f'input_{feature}') for feature in train_X.columns]\n",
    "concatenated_inputs = tf.keras.concatenate(input_layers)\n",
    "dense_layer =  tf.keras.layers.Dense(64, activation='relu')(concatenated_inputs)\n",
    "output_layer =  tf.keras.layers.Dense(1, activation='sigmoid')(dense_layer)\n",
    "model = tf.keras.Model(inputs=input_layers, outputs=output_layer)\n",
    "\n",
    "# Compile the model\n",
    "model.compile(loss='mean_squared_error', optimizer='adam', metrics=['accuracy'])\n",
    "\n",
    "# Fit the model\n",
    "history = model.fit(train_X, train_y, epochs=10, batch_size=32, validation_data=(test_X, test_y))\n",
    "\n",
    "# Forecasting\n",
    "forecast = model.predict(test_X)\n",
    "\n",
    "# Plot results\n",
    "plt.plot(test_y.index, forecast, color='red', label='Predicted')\n",
    "plt.plot(test_y.index, test_y, color='blue', label='Actual')\n",
    "plt.xlabel('Date')\n",
    "plt.ylabel('Sales')\n",
    "plt.legend()\n",
    "plt.show()\n",
    "\n",
    "\n",
    "\n",
    "\n"
   ],
   "metadata": {
    "collapsed": false
   }
  },
  {
   "cell_type": "code",
   "execution_count": null,
   "outputs": [],
   "source": [],
   "metadata": {
    "collapsed": false
   }
  }
 ],
 "metadata": {
  "kernelspec": {
   "display_name": "Python 3",
   "language": "python",
   "name": "python3"
  },
  "language_info": {
   "codemirror_mode": {
    "name": "ipython",
    "version": 2
   },
   "file_extension": ".py",
   "mimetype": "text/x-python",
   "name": "python",
   "nbconvert_exporter": "python",
   "pygments_lexer": "ipython2",
   "version": "2.7.6"
  }
 },
 "nbformat": 4,
 "nbformat_minor": 0
}
