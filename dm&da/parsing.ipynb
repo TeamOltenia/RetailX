{
 "cells": [
  {
   "cell_type": "code",
   "execution_count": null,
   "metadata": {},
   "outputs": [],
   "source": [
    "import pandas as pd\n",
    "\n",
    "sales_doc = \"../doccuments/sales_and_eodStocks.xlsx\"\n",
    "transactions_doc = \"../doccuments/transactions.xlsx\"\n",
    "\n",
    "sales_df = pd.read_excel(sales_doc)\n",
    "transactions_doc = pd.read_excel(transactions_doc)"
   ]
  }
 ],
 "metadata": {
  "kernelspec": {
   "display_name": "Python 3",
   "language": "python",
   "name": "python3"
  },
  "language_info": {
   "codemirror_mode": {
    "name": "ipython",
    "version": 3
   },
   "file_extension": ".py",
   "mimetype": "text/x-python",
   "name": "python",
   "nbconvert_exporter": "python",
   "pygments_lexer": "ipython3",
   "version": "3.10.7"
  }
 },
 "nbformat": 4,
 "nbformat_minor": 2
}
