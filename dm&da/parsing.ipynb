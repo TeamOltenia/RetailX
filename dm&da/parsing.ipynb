{
 "cells": [
  {
   "cell_type": "code",
   "execution_count": 9,
   "metadata": {},
   "outputs": [],
   "source": [
    "import pandas as pd\n",
    "\n",
    "sales_doc = \"../doccuments/sales_and_eodStocks.xlsx\"\n",
    "transactions_doc = \"../doccuments/transactions.xlsx\"\n",
    "\n",
    "sales_df = pd.read_excel(sales_doc)\n",
    "transactions_doc = pd.read_excel(transactions_doc)"
   ]
  },
  {
   "cell_type": "code",
   "execution_count": 10,
   "metadata": {},
   "outputs": [
    {
     "name": "stdout",
     "output_type": "stream",
     "text": [
      "  Product_ID       Date  Sales  Revenue  EndOfDayStock\n",
      "0      10002 2009-12-01     12    10.20          48692\n",
      "1      10002 2009-12-03      7     5.95          48685\n",
      "2      10002 2009-12-04     73    62.05          48612\n",
      "3      10002 2009-12-06     49    41.65          48563\n",
      "4      10002 2009-12-07      2     1.70          48561\n"
     ]
    }
   ],
   "source": [
    "print(sales_df.head())"
   ]
  },
  {
   "cell_type": "code",
   "execution_count": 11,
   "metadata": {},
   "outputs": [
    {
     "name": "stdout",
     "output_type": "stream",
     "text": [
      "   Invoice Product_ID                          Description  Quantity  \\\n",
      "0   489434      85048  15CM CHRISTMAS GLASS BALL 20 LIGHTS        12   \n",
      "1   489434     79323P                   PINK CHERRY LIGHTS        12   \n",
      "2   489434     79323W                  WHITE CHERRY LIGHTS        12   \n",
      "3   489434      22041         RECORD FRAME 7\" SINGLE SIZE         48   \n",
      "4   489434      21232       STRAWBERRY CERAMIC TRINKET BOX        24   \n",
      "\n",
      "                 Date  Price  Customer ID         Country  \n",
      "0 2009-12-01 07:45:00   6.95        13085  United Kingdom  \n",
      "1 2009-12-01 07:45:00   6.75        13085  United Kingdom  \n",
      "2 2009-12-01 07:45:00   6.75        13085  United Kingdom  \n",
      "3 2009-12-01 07:45:00   2.10        13085  United Kingdom  \n",
      "4 2009-12-01 07:45:00   1.25        13085  United Kingdom  \n"
     ]
    }
   ],
   "source": [
    "print(transactions_df.head())"
   ]
  }
 ],
 "metadata": {
  "kernelspec": {
   "display_name": "Python 3",
   "language": "python",
   "name": "python3"
  },
  "language_info": {
   "codemirror_mode": {
    "name": "ipython",
    "version": 3
   },
   "file_extension": ".py",
   "mimetype": "text/x-python",
   "name": "python",
   "nbconvert_exporter": "python",
   "pygments_lexer": "ipython3",
   "version": "3.10.7"
  }
 },
 "nbformat": 4,
 "nbformat_minor": 2
}
